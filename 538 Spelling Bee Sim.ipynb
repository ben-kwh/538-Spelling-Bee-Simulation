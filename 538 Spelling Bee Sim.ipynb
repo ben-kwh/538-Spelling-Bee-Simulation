{
 "cells": [
  {
   "cell_type": "markdown",
   "metadata": {},
   "source": [
    "###  538 Riddler, Can you win a spelling bee if you know 99% of the words.  As seen: https://fivethirtyeight.com/features/can-you-win-a-spelling-bee-if-you-know-99-percent-of-the-words/\n",
    "\n",
    "Rather than calculating probabilities, We're simulating through 1,000 games to get the win percentage."
   ]
  },
  {
   "cell_type": "code",
   "execution_count": 211,
   "metadata": {},
   "outputs": [],
   "source": [
    "import random\n",
    "import pandas as pd\n",
    "import datetime as dt"
   ]
  },
  {
   "cell_type": "markdown",
   "metadata": {},
   "source": [
    "##### First let's create a table where we'll store the spelling bee contestant, the percentage of words they know, and if they are still in the game."
   ]
  },
  {
   "cell_type": "code",
   "execution_count": 51,
   "metadata": {},
   "outputs": [
    {
     "name": "stdout",
     "output_type": "stream",
     "text": [
      "      player  known_words_percent  still_in\n",
      "0         me                   99      True\n",
      "1   player_2                   98      True\n",
      "2   player_3                   97      True\n",
      "3   player_4                   96      True\n",
      "4   player_5                   95      True\n",
      "5   player_6                   94      True\n",
      "6   player_7                   93      True\n",
      "7   player_8                   92      True\n",
      "8   player_9                   91      True\n",
      "9  player_10                   90      True\n"
     ]
    }
   ],
   "source": [
    "def initilialize_spelling_bee():\n",
    "    contestant_table = pd.DataFrame([['me', 99, True],\n",
    "                                 ['player_2', 98, True],\n",
    "                                 ['player_3', 97, True],\n",
    "                                 ['player_4', 96, True],\n",
    "                                 ['player_5', 95, True],\n",
    "                                 ['player_6', 94, True],\n",
    "                                 ['player_7', 93, True],\n",
    "                                 ['player_8', 92, True],\n",
    "                                 ['player_9', 91, True],\n",
    "                                 ['player_10', 90, True]],\n",
    "                                 columns=['player', \n",
    "                                          'known_words_percent',\n",
    "                                          'still_in'])\n",
    "    return(contestant_table)\n",
    "\n",
    "print(initilialize_spelling_bee())"
   ]
  },
  {
   "cell_type": "markdown",
   "metadata": {},
   "source": [
    "##### Next, we'll create a function that will determine if a contestant knows a word. We'll provide function the contestant table, and the index of the player whose turn it is.  If the contestant doesn't know the word, we'll mark them out of the game in the table.  "
   ]
  },
  {
   "cell_type": "code",
   "execution_count": 202,
   "metadata": {},
   "outputs": [],
   "source": [
    "def did_contestant_spell(contestant_table, index):\n",
    "    spelled_it = False\n",
    "    probability_spelled_it = contestant_table.loc[index, 'known_words_percent']\n",
    "    if random.randint(1,100) <= probability_spelled_it:\n",
    "        spelled_it = True\n",
    "    if spelled_it is False:\n",
    "        contestant_table.loc[index, 'still_in'] = False\n",
    "    return(contestant_table)"
   ]
  },
  {
   "cell_type": "markdown",
   "metadata": {},
   "source": [
    "##### Now we'll make a function to check for a winner.  It will look at the whole table and determine if there is only one player left.  If so, we'll end the game, and return the winner."
   ]
  },
  {
   "cell_type": "code",
   "execution_count": 203,
   "metadata": {},
   "outputs": [],
   "source": [
    "def is_game_over(contestant_table):\n",
    "    players_left = contestant_table[contestant_table['still_in'] == True]\n",
    "    if len(players_left) == 1:\n",
    "        is_over = True\n",
    "        player_left = players_left['player'].iloc[0]\n",
    "    else:\n",
    "        is_over = False\n",
    "        player_left = None\n",
    "\n",
    "    return(is_over, player_left)\n",
    "    \n",
    "              "
   ]
  },
  {
   "cell_type": "markdown",
   "metadata": {},
   "source": [
    "##### Next, make a function to simulate one spelling bee that uses all the above functions.  It returns the winner of the bee, and for giggles, the number of rounds it took to win."
   ]
  },
  {
   "cell_type": "code",
   "execution_count": 208,
   "metadata": {},
   "outputs": [
    {
     "name": "stdout",
     "output_type": "stream",
     "text": [
      "'me' won the bee in 35 rounds\n"
     ]
    }
   ],
   "source": [
    "def simulate_one_bee():\n",
    "    contestant_table = initilialize_spelling_bee()\n",
    "    Rounds = 0\n",
    "    Game_Over = False\n",
    "    while Game_Over is False:\n",
    "        Rounds +=1\n",
    "        for turn in range(len(contestant_table)):\n",
    "            did_contestant_spell(contestant_table, turn)\n",
    "            Game_Over, winner  = is_game_over(contestant_table)\n",
    "            if Game_Over is True:\n",
    "                break\n",
    "    return(Rounds, winner)\n",
    "                \n",
    "\n",
    "test_bee = simulate_one_bee()\n",
    "print(\"'{}' won the bee in {} rounds\".format(test_bee[1],test_bee[0]))"
   ]
  },
  {
   "cell_type": "markdown",
   "metadata": {},
   "source": [
    "##### To simulate multiple games, we'll need to keep a running tally of the wins by each player.  We'll create a function to make a table with each player and a 'win count' of zero.  "
   ]
  },
  {
   "cell_type": "code",
   "execution_count": 209,
   "metadata": {},
   "outputs": [
    {
     "name": "stdout",
     "output_type": "stream",
     "text": [
      "      player  known_words_percent  win_count\n",
      "0         me                   99          0\n",
      "1   player_2                   98          0\n",
      "2   player_3                   97          0\n",
      "3   player_4                   96          0\n",
      "4   player_5                   95          0\n",
      "5   player_6                   94          0\n",
      "6   player_7                   93          0\n",
      "7   player_8                   92          0\n",
      "8   player_9                   91          0\n",
      "9  player_10                   90          0\n"
     ]
    }
   ],
   "source": [
    "def initialize_bee_wins_tally():\n",
    "    contestant_table = initilialize_spelling_bee()\n",
    "    bee_wins_tally = contestant_table[['player', \n",
    "                                       'known_words_percent']]\n",
    "    bee_wins_tally['win_count'] = 0\n",
    "    return(bee_wins_tally)\n",
    "\n",
    "print(initialize_bee_wins_tally())"
   ]
  },
  {
   "cell_type": "markdown",
   "metadata": {},
   "source": [
    "### Now, we can simulate multiple games.  We'll initalize a win tally table.  Then we'll run through 1,000 games, whilst counting the winner and the number of rounds to win."
   ]
  },
  {
   "cell_type": "code",
   "execution_count": 219,
   "metadata": {},
   "outputs": [
    {
     "name": "stdout",
     "output_type": "stream",
     "text": [
      "my win percentage is: 50.2%\n"
     ]
    },
    {
     "data": {
      "text/plain": [
       "<matplotlib.axes._subplots.AxesSubplot at 0x281fe608cc0>"
      ]
     },
     "execution_count": 219,
     "metadata": {},
     "output_type": "execute_result"
    },
    {
     "data": {
      "image/png": "[encoded data removed]",
      "text/plain": [
       "<Figure size 432x288 with 1 Axes>"
      ]
     },
     "metadata": {},
     "output_type": "display_data"
    }
   ],
   "source": [
    "round_list = []\n",
    "total_games_to_sim = 1000\n",
    "bee_wins_tally = initialize_bee_wins_tally()\n",
    "for bee in range(total_games_to_sim):\n",
    "    round_count, winner = simulate_one_bee()\n",
    "    bee_wins_tally.loc[bee_wins_tally['player'] == winner, 'win_count'] += 1\n",
    "    round_list.append(round_count)\n",
    "my_wins = bee_wins_tally.loc[bee_wins_tally['player'] == 'me', 'win_count'].sum()\n",
    "\n",
    "print('my win percentage is: {}%'.format(my_wins / total_games_to_sim * 100))\n",
    "bee_wins_tally.plot(kind='bar',x='player', y='win_count')"
   ]
  },
  {
   "cell_type": "markdown",
   "metadata": {},
   "source": [
    "##### We'll also count the number of rounds... because it's fun.  The distribution of rounds looks like this. "
   ]
  },
  {
   "cell_type": "code",
   "execution_count": 220,
   "metadata": {},
   "outputs": [
    {
     "name": "stdout",
     "output_type": "stream",
     "text": [
      "average number of rounds: 53.761\n",
      "[[<matplotlib.axes._subplots.AxesSubplot object at 0x00000281FE6FE588>]]\n"
     ]
    },
    {
     "data": {
      "image/png": "[encoded data removed]",
      "text/plain": [
       "<Figure size 432x288 with 1 Axes>"
      ]
     },
     "metadata": {},
     "output_type": "display_data"
    }
   ],
   "source": [
    "total_rounds =pd.DataFrame(round_list, columns=['Number of Rounds per Bee'])\n",
    "print('average number of rounds: {}'\n",
    "      .format(total_rounds['Number of Rounds per Bee'].mean()))\n",
    "print(total_rounds.hist())"
   ]
  },
  {
   "cell_type": "markdown",
   "metadata": {},
   "source": [
    "### We also want to see if going last will affect the outcome.  For this, we'll make a new one-game-simulation function, that puts the players in an increasing order of word-percentage-knowledge.  "
   ]
  },
  {
   "cell_type": "code",
   "execution_count": 185,
   "metadata": {},
   "outputs": [],
   "source": [
    "def simulate_one_increasing_order_bee():\n",
    "    contestant_table = initilialize_spelling_bee()\n",
    "    Rounds = 0\n",
    "    Game_Over = False\n",
    "    while Game_Over is False:\n",
    "        Rounds +=1\n",
    "        order = [9, 8, 7, 6, 5, 4, 3, 2, 1, 0]\n",
    "        for turn in order:\n",
    "            did_contestant_spell(contestant_table, turn)\n",
    "            Game_Over, winner  = is_game_over(contestant_table)\n",
    "            if Game_Over is True:\n",
    "                break\n",
    "    return(Rounds, winner)"
   ]
  },
  {
   "cell_type": "markdown",
   "metadata": {},
   "source": [
    "##### Now we simulate 1,000 games again to see if we get a different answer. "
   ]
  },
  {
   "cell_type": "code",
   "execution_count": 222,
   "metadata": {},
   "outputs": [
    {
     "name": "stdout",
     "output_type": "stream",
     "text": [
      "my win percentage is: 51.9%\n"
     ]
    },
    {
     "data": {
      "text/plain": [
       "<matplotlib.axes._subplots.AxesSubplot at 0x281fe57ee80>"
      ]
     },
     "execution_count": 222,
     "metadata": {},
     "output_type": "execute_result"
    },
    {
     "data": {
      "image/png": "[encoded data removed]",
      "text/plain": [
       "<Figure size 432x288 with 1 Axes>"
      ]
     },
     "metadata": {},
     "output_type": "display_data"
    }
   ],
   "source": [
    "round_list = []\n",
    "total_games_to_sim = 1000\n",
    "bee_wins_tally = initialize_bee_wins_tally()\n",
    "for bee in range(0, total_games_to_sim):\n",
    "    round_count, winner = simulate_one_increasing_order_bee()\n",
    "    bee_wins_tally.loc[bee_wins_tally['player'] == winner, 'win_count'] += 1\n",
    "    round_list.append(round_count)\n",
    "my_wins = bee_wins_tally.loc[bee_wins_tally['player'] == 'me', 'win_count'].sum()\n",
    "print('my win percentage is: {}%'.format(my_wins / total_games_to_sim * 100))\n",
    "bee_wins_tally.plot(kind='bar',x='player', y='win_count')"
   ]
  },
  {
   "cell_type": "markdown",
   "metadata": {},
   "source": [
    "##### Let's see if the average numer of rounds change.  Now the bees are taking 56 rounds, it might be a wash if we simulated more games."
   ]
  },
  {
   "cell_type": "code",
   "execution_count": 223,
   "metadata": {},
   "outputs": [
    {
     "name": "stdout",
     "output_type": "stream",
     "text": [
      "average number of rounds: 56.046\n",
      "[[<matplotlib.axes._subplots.AxesSubplot object at 0x00000281FE7C0668>]]\n"
     ]
    },
    {
     "data": {
      "image/png": "[encoded data removed]",
      "text/plain": [
       "<Figure size 432x288 with 1 Axes>"
      ]
     },
     "metadata": {},
     "output_type": "display_data"
    }
   ],
   "source": [
    "total_rounds =pd.DataFrame(round_list, columns=['Number of Rounds per Bee'])\n",
    "print('average number of rounds: {}'\n",
    "      .format(total_rounds['Number of Rounds per Bee'].mean()))\n",
    "print(total_rounds.hist())"
   ]
  },
  {
   "cell_type": "code",
   "execution_count": null,
   "metadata": {},
   "outputs": [],
   "source": []
  }
 ],
 "metadata": {
  "kernelspec": {
   "display_name": "Python 3",
   "language": "python",
   "name": "python3"
  },
  "language_info": {
   "codemirror_mode": {
    "name": "ipython",
    "version": 3
   },
   "file_extension": ".py",
   "mimetype": "text/x-python",
   "name": "python",
   "nbconvert_exporter": "python",
   "pygments_lexer": "ipython3",
   "version": "3.6.5"
  }
 },
 "nbformat": 4,
 "nbformat_minor": 2
}
